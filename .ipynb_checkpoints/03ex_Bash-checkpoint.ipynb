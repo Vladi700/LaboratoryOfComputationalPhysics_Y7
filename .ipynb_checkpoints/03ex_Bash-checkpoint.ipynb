{
 "cells": [
  {
   "cell_type": "markdown",
   "metadata": {},
   "source": [
    "The following exercises are meant to be solved by gathering the bash commands incrimentally in two scripts, one for ex 1.* the other for ex 2.* "
   ]
  },
  {
   "cell_type": "markdown",
   "metadata": {},
   "source": [
    "### Ex 1"
   ]
  },
  {
   "cell_type": "markdown",
   "metadata": {},
   "source": [
    "1\\.a Make a new directory called `students` in your home. Download a csv file with the list of students of this lab from [here](https://www.dropbox.com/s/867rtx3az6e9gm8/LCP_22-23_students.csv) (use the `wget` command) and copy that to `students`. First check whether the file is already there"
   ]
  },
  {
   "cell_type": "code",
   "execution_count": null,
   "metadata": {},
   "outputs": [],
   "source": [
    "#!/bin/bash\n",
    "\n",
    "mkdir 'students'\n",
    "cd students\n",
    "wget https://www.dropbox.com/scl/fi/bxv17nrbrl83vw6qrkiu9/LCP_22-23_students.csv?rlkey=47fakvatrtif3q3qw4q97p5b7&e=1\n",
    "touch PoD_students\n",
    "touch Physics_students\n",
    "echo 'Akkara,Jelin Raphael,jelinraphael.akkara@studenti.unipd.it,PoD\n",
    "  352  Altamirano,Davide,davidalejandro.altamiranocoello@studenti.unipd.it,PoD\n",
    "  353  Badami,Hessan,mohammadhessan.badami@studenti.unipd.it,PoD\n",
    "  354  Baghaei Saryazdi,Fateme,fateme.baghaeisaryazdi@studenti.unipd.it,PoD\n",
    "  355  Barbiero,Lorenzo,lorenzo.barbiero.1@studenti.unipd.it,PoD\n",
    "  356  Bedin,Veronica,veronica.bedin.1@studenti.unipd.it,PoD\n",
    "  357  Benito,Guillermo,guillermo.benitocalvino@studenti.unipd.it,PoD\n",
    "  358  Bertininelli,Gabriele,gabriele.bertinelli@studenti.unipd.it,PoD\n",
    "  359  Bertola,Tommaso,tommaso.bertola@studenti.unipd.it,PoD\n",
    "  360  Bhatti,Roben,roben.bhatti@studenti.unipd.it,PoD\n",
    "  361  Bonato,Diego,diego.bonato.1@studenti.unipd.it,PoD\n",
    "  362  Bordin,Guglielmo,guglielmo.bordin@studenti.unipd.it,PoD\n",
    "  363  Breccia,Alessandro,alessandro.breccia@studenti.unipd.it,PoD\n",
    "  364  Brisigotti,Erica,10698739@unipd.it / ericabrisigotti@gmail.com,PoD\n",
    "  365  Checchia,Davide,davide.checchia@studenti.unipd.it,PoD\n",
    "  366  Chiloiro,Marco,marco.chiloiro@studenti.unipd.it,PoD\n",
    "  367  Chueva,Ekaterina ,ekaterina.chueva@studenti.unipd.it,PoD\n",
    "  368  Dall'Ara ,Marco ,marco.dallara.1@studenti.unipd.it,PoD\n",
    "  369  Davide,Bacilieri,davide.bacilieri@studenti.unipd.it,PoD\n",
    "  370  De Vita,Andrea,andrea.devita.1@studenti.unipd.it,PoD\n",
    "  371  Di Prima,Giacomo,giacomo.diprima@studenti.unipd.it,PoD\n",
    "  372  Divari,Carlo,carlo.divari@studenti.unipd.it,PoD\n",
    "  373  Dodampe Gamage,Eran,erankawinda.dodampegamage@studenti.unipd.it,PoD\n",
    "  374  Eslami shafigh,Ehsan,ehsan.eslamishafigh@studenti.unipd.it,PoD\n",
    "  375  Feltrin,Antonio,antonio.feltrin@studenti.unipd.it,PoD\n",
    "  376  Garbo ,Anna,anna.garbo.2@studenti.unipd.it,PoD\n",
    "  377  Ghaemifar,Sepideh,sepideh.ghaemifar@studenti.unipd.it,PoD\n",
    "  378  Golan,Rodrigo,rodrigo.golan@studenti.unipd.it,PoD\n",
    "  379  Guercio,Tommaso,tommaso.guercio@studenti.unipd.it,PoD\n",
    "  380  Hatamjahromi,Roozbeh,Roozbeh.hatam1377@gmail.com  /   10675931@unipd.it,PoD\n",
    "  381  Isotton,Gloria,gloria.isotton@studenti.unipd.it,PoD\n",
    "  382  Javid,Kiamehr,kiamehr.javid@studenti.unipd.it,PoD\n",
    "  383  Kumar,Prince,prince.kumar@studenti.unipd.it,PoD\n",
    "  384  La Delfa ,Niccolò ,niccolo.ladelfa@studenti.unipd.it,PoD\n",
    "  385  Lui,Riccardo ,riccardo.lui@studenti.unipd.it,PoD\n",
    "  386  Lupi,Enrico,enrico.lupi@studenti.unipd.it,PoD\n",
    "  387  Marchetti,Andrea,andrea.marchetti.5@studenti.unipd.it,PoD\n",
    "  388  Mengoni,Leon,leon.mengoni@studenti.unipd.it,PoD\n",
    "  389  Menti,Luca,luca.menti@studenti.unipd.it,PoD\n",
    "  390  Merlin,Giovanni,giovanni.merlin@studenti.unipd.it,PoD\n",
    "  391  Meza,Stefano,stefanorafael.mezaanzules@studenti.unipd.it,PoD\n",
    "  392  Miranda,Manfredi,manfredi.miranda@studenti.unipd.it,PoD\n",
    "  393  Munafò,Sara,sara.munafo@studenti.unipd.it,PoD\n",
    "  394  Pacheco,Sofia,sofia.pachecogarcia@studenti.unipd.it,PoD\n",
    "  395  Pasian,Francisco,franciscoariel.pasian@studenti.unipd.it,PoD\n",
    "  396  Peter,Maximilian,10705165@unipd.it / soon: maximilian.peter@studenti.unipd.it,PoD\n",
    "  397  Pitteri,Alessio,alessio.pitteri@studenti.unipd.it,PoD\n",
    "  398  Pra Floriani,Filippo,filippo.prafloriani@studenti.unipd.it,PoD\n",
    "  399  Rostami,Amirhossein,amirhossein.rostami@studenti.unipd.it,PoD\n",
    "  400  Saccomani,Alessio,alessio.saccomani@studenti.unipd.it,PoD\n",
    "  401  Sahputra,Nadillia,nadillia.sahputra@studenti.unipd.it,PoD\n",
    "  402  Sapkas,Michail,michail.sapkas@studenti.unipd.it,PoD\n",
    "  403  Saran Gattorno,Giancarlo,giancarlo.sarangattorno@studenti.unipd.it,PoD\n",
    "  404  Sardo Infirri,Giosuè,giosue.sardoinfirri@studenti.unipd.it,PoD\n",
    "  405  Sarte,Emanuele,emanuele.sarte@studenti.unipd.it,PoD\n",
    "  406  Tancredi ,Riccardo ,riccardo.tancredi@studenti.unipd.it,PoD\n",
    "  407  Toso,Simone,simone.toso.2@studenti.unipd.it,PoD\n",
    "  408  Vatankhahan,Mahdy,mahdy.vatankhahan@studenti.unipd.it,PoD\n",
    "  409  Verguizas I Moliner,Joan,joan.verguizasimoliner@studenti.unipd.it,PoD\n",
    "  410  Viterbo,Giuseppe,giuseppe.viterbo@studenti.unipd.it,PoD\n",
    "  411  Waththe Liyanage,Wageesha Widuranga,wageeshawiduranga.waththeliyanage@studenti.unipd.it,PoD\n",
    "  412  Wickramasinghe Mudiyanselage,Poornima Amali Wickramasinghe,poornimaamaliwickramasinghe.wickramasinghemudiyanselage@studenti.unipd.it,PoD\n",
    "  413  Zago,Giovanni,giovanni.zago.2@studenti.unipd.it,PoD\n",
    "  414  Zal,Abbas,abbas.zal@studenti.unipd.it,PoD\n",
    "  415  Zane,Francesco,francesco.zane.1@studenti.unipd.it,PoD\n",
    "  416  Zenari,Marco,marco.zenari@studenti.unipd.it,PoD\n",
    "  417  Zhang,Qiqi,qiqi.zhang@studenti.unipd.it,PoD\n",
    "  418  echo \"Akkara,Jelin Raphael,jelinraphael.akkara@studenti.unipd.it,PoD\n",
    "  419  Altamirano,Davide,davidalejandro.altamiranocoello@studenti.unipd.it,PoD\n",
    "  420  Badami,Hessan,mohammadhessan.badami@studenti.unipd.it,PoD\n",
    "  421  Baghaei Saryazdi,Fateme,fateme.baghaeisaryazdi@studenti.unipd.it,PoD\n",
    "  422  Barbiero,Lorenzo,lorenzo.barbiero.1@studenti.unipd.it,PoD\n",
    "  423  Bedin,Veronica,veronica.bedin.1@studenti.unipd.it,PoD\n",
    "  424  Benito,Guillermo,guillermo.benitocalvino@studenti.unipd.it,PoD\n",
    "  425  Bertininelli,Gabriele,gabriele.bertinelli@studenti.unipd.it,PoD\n",
    "  426  Bertola,Tommaso,tommaso.bertola@studenti.unipd.it,PoD\n",
    "  427  Bhatti,Roben,roben.bhatti@studenti.unipd.it,PoD\n",
    "  428  Bonato,Diego,diego.bonato.1@studenti.unipd.it,PoD\n",
    "  429  Bordin,Guglielmo,guglielmo.bordin@studenti.unipd.it,PoD\n",
    "  430  Breccia,Alessandro,alessandro.breccia@studenti.unipd.it,PoD\n",
    "  431  Brisigotti,Erica,10698739@unipd.it / ericabrisigotti@gmail.com,PoD\n",
    "  432  Checchia,Davide,davide.checchia@studenti.unipd.it,PoD\n",
    "  433  Chiloiro,Marco,marco.chiloiro@studenti.unipd.it,PoD\n",
    "  434  Chueva,Ekaterina ,ekaterina.chueva@studenti.unipd.it,PoD\n",
    "  435  Dall'Ara ,Marco ,marco.dallara.1@studenti.unipd.it,PoD\n",
    "  436  Davide,Bacilieri,davide.bacilieri@studenti.unipd.it,PoD\n",
    "  437  De Vita,Andrea,andrea.devita.1@studenti.unipd.it,PoD\n",
    "  438  Di Prima,Giacomo,giacomo.diprima@studenti.unipd.it,PoD\n",
    "  439  Divari,Carlo,carlo.divari@studenti.unipd.it,PoD\n",
    "  440  Dodampe Gamage,Eran,erankawinda.dodampegamage@studenti.unipd.it,PoD\n",
    "  441  Eslami shafigh,Ehsan,ehsan.eslamishafigh@studenti.unipd.it,PoD\n",
    "  442  Feltrin,Antonio,antonio.feltrin@studenti.unipd.it,PoD\n",
    "  443  Garbo ,Anna,anna.garbo.2@studenti.unipd.it,PoD\n",
    "  444  Ghaemifar,Sepideh,sepideh.ghaemifar@studenti.unipd.it,PoD\n",
    "  445  Golan,Rodrigo,rodrigo.golan@studenti.unipd.it,PoD\n",
    "  446  Guercio,Tommaso,tommaso.guercio@studenti.unipd.it,PoD\n",
    "  447  Hatamjahromi,Roozbeh,Roozbeh.hatam1377@gmail.com  /   10675931@unipd.it,PoD\n",
    "  448  Isotton,Gloria,gloria.isotton@studenti.unipd.it,PoD\n",
    "  449  Javid,Kiamehr,kiamehr.javid@studenti.unipd.it,PoD\n",
    "  450  Kumar,Prince,prince.kumar@studenti.unipd.it,PoD\n",
    "  451  La Delfa ,Niccolò ,niccolo.ladelfa@studenti.unipd.it,PoD\n",
    "  452  Lui,Riccardo ,riccardo.lui@studenti.unipd.it,PoD\n",
    "  453  Lupi,Enrico,enrico.lupi@studenti.unipd.it,PoD\n",
    "  454  Marchetti,Andrea,andrea.marchetti.5@studenti.unipd.it,PoD\n",
    "  455  Mengoni,Leon,leon.mengoni@studenti.unipd.it,PoD\n",
    "  456  Menti,Luca,luca.menti@studenti.unipd.it,PoD\n",
    "  457  Merlin,Giovanni,giovanni.merlin@studenti.unipd.it,PoD\n",
    "  458  Meza,Stefano,stefanorafael.mezaanzules@studenti.unipd.it,PoD\n",
    "  459  Miranda,Manfredi,manfredi.miranda@studenti.unipd.it,PoD\n",
    "  460  Munafò,Sara,sara.munafo@studenti.unipd.it,PoD\n",
    "  461  Pacheco,Sofia,sofia.pachecogarcia@studenti.unipd.it,PoD\n",
    "  462  Pasian,Francisco,franciscoariel.pasian@studenti.unipd.it,PoD\n",
    "  463  Peter,Maximilian,10705165@unipd.it / soon: maximilian.peter@studenti.unipd.it,PoD\n",
    "  464  Pitteri,Alessio,alessio.pitteri@studenti.unipd.it,PoD\n",
    "  465  Pra Floriani,Filippo,filippo.prafloriani@studenti.unipd.it,PoD\n",
    "  466  Rostami,Amirhossein,amirhossein.rostami@studenti.unipd.it,PoD\n",
    "  467  Saccomani,Alessio,alessio.saccomani@studenti.unipd.it,PoD\n",
    "  468  Sahputra,Nadillia,nadillia.sahputra@studenti.unipd.it,PoD\n",
    "  469  Sapkas,Michail,michail.sapkas@studenti.unipd.it,PoD\n",
    "  470  Saran Gattorno,Giancarlo,giancarlo.sarangattorno@studenti.unipd.it,PoD\n",
    "  471  Sardo Infirri,Giosuè,giosue.sardoinfirri@studenti.unipd.it,PoD\n",
    "  472  Sarte,Emanuele,emanuele.sarte@studenti.unipd.it,PoD\n",
    "  473  Tancredi ,Riccardo ,riccardo.tancredi@studenti.unipd.it,PoD\n",
    "  474  Toso,Simone,simone.toso.2@studenti.unipd.it,PoD\n",
    "  475  Vatankhahan,Mahdy,mahdy.vatankhahan@studenti.unipd.it,PoD\n",
    "  476  Verguizas I Moliner,Joan,joan.verguizasimoliner@studenti.unipd.it,PoD\n",
    "  477  Viterbo,Giuseppe,giuseppe.viterbo@studenti.unipd.it,PoD\n",
    "  478  Waththe Liyanage,Wageesha Widuranga,wageeshawiduranga.waththeliyanage@studenti.unipd.it,PoD\n",
    "  479  Wickramasinghe Mudiyanselage,Poornima Amali Wickramasinghe,poornimaamaliwickramasinghe.wickramasinghemudiyanselage@studenti.unipd.it,PoD\n",
    "  480  Zago,Giovanni,giovanni.zago.2@studenti.unipd.it,PoD\n",
    "  481  Zal,Abbas,abbas.zal@studenti.unipd.it,PoD\n",
    "  482  Zane,Francesco,francesco.zane.1@studenti.unipd.it,PoD\n",
    "  483  Zenari,Marco,marco.zenari@studenti.unipd.it,PoD\n",
    "  484  Zhang,Qiqi,qiqi.zhang@studenti.unipd.it,PoD\n",
    "  485  \" > PoD_students\n",
    "  486  gedit PoD_students\n",
    "  487  grep 'Physics'\n",
    "  488  ls\n",
    "  489  grep 'Physics' LCP_22-23_students.csv?rlkey=47fakvatrtif3q3qw4q97p5b7\n",
    "  490  echo 'Bucalo,Edoardo,edoardorenato.bucalo@studenti.unipd.it,Physics\n",
    "  491  Fedon Vocaturo,Marina,marina.fedonvocaturo@studenti.unipd.it,Physics\n",
    "  492  Forza,Camilla,camilla.forza@studenti.unipd.it,Physics\n",
    "  493  Ruffini,Federico,federico.ruffini.1@studenti.unipd.it,Physics\n",
    "  494  ' > Physics_students\n"
   ]
  },
  {
   "cell_type": "markdown",
   "metadata": {},
   "source": [
    "1\\.b Make two new files, one containing the students belonging to PoD, the other to Physics."
   ]
  },
  {
   "cell_type": "code",
   "execution_count": null,
   "metadata": {},
   "outputs": [],
   "source": []
  },
  {
   "cell_type": "markdown",
   "metadata": {},
   "source": [
    "1\\.c For each letter of the alphabet, count the number of students whose surname starts with that letter. "
   ]
  },
  {
   "cell_type": "code",
   "execution_count": null,
   "metadata": {},
   "outputs": [],
   "source": [
    "#!/bin/bash\n",
    "\n",
    "a=0\n",
    "b=0\n",
    "c=0\n",
    "d=0\n",
    "i=0\n",
    "f=0\n",
    "g=0\n",
    "h=0\n",
    "i=0\n",
    "j=0\n",
    "k=0\n",
    "l=0\n",
    "m=0\n",
    "n=0\n",
    "o=0\n",
    "p=0\n",
    "q=0\n",
    "r=0\n",
    "s=0\n",
    "t=0\n",
    "u=0\n",
    "x=0\n",
    "y=0\n",
    "z=0\n",
    "\n",
    "for p in PoD_students:\n",
    "if "
   ]
  },
  {
   "cell_type": "markdown",
   "metadata": {},
   "source": [
    "1\\.d Find out which is the letter with most counts."
   ]
  },
  {
   "cell_type": "markdown",
   "metadata": {},
   "source": [
    "1\\.e Assume an obvious numbering of the students in the file (first line is 1, second line is 2, etc.), group students \"modulo 18\", i.e. 1,19,37,.. 2,20,38,.. etc. and put each group in a separate file  "
   ]
  },
  {
   "cell_type": "markdown",
   "metadata": {},
   "source": [
    "### Ex 2"
   ]
  },
  {
   "cell_type": "markdown",
   "metadata": {},
   "source": [
    "2.a Make a copy of the file `data.csv` removing the metadata and the commas between numbers; call it `data.txt`"
   ]
  },
  {
   "cell_type": "markdown",
   "metadata": {},
   "source": [
    "2\\.b How many even numbers are there?"
   ]
  },
  {
   "cell_type": "markdown",
   "metadata": {},
   "source": [
    "2\\.c Distinguish the entries on the basis of `sqrt(X^2 + Y^2 + Z^2)` is greater or smaller than `100*sqrt(3)/2`. Count the entries of each of the two groups "
   ]
  },
  {
   "cell_type": "markdown",
   "metadata": {},
   "source": [
    "2\\.d Make `n` copies of data.txt (with `n` an input parameter of the script), where the i-th copy has all the numbers divided by i (with `1<=i<=n`)."
   ]
  }
 ],
 "metadata": {
  "kernelspec": {
   "display_name": "Python 3",
   "language": "python",
   "name": "python3"
  },
  "language_info": {
   "codemirror_mode": {
    "name": "ipython",
    "version": 3
   },
   "file_extension": ".py",
   "mimetype": "text/x-python",
   "name": "python",
   "nbconvert_exporter": "python",
   "pygments_lexer": "ipython3",
   "version": "3.6.8"
  }
 },
 "nbformat": 4,
 "nbformat_minor": 5
}
