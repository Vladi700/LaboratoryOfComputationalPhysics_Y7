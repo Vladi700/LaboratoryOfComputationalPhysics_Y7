{
 "cells": [
  {
   "cell_type": "markdown",
   "id": "503399d7",
   "metadata": {},
   "source": [
    "The following exercises are meant to be solved by gathering the bash commands incrimentally in two scripts, one for ex 1.* the other for ex 2.* "
   ]
  },
  {
   "cell_type": "markdown",
   "id": "eec279ab",
   "metadata": {},
   "source": [
    "### Ex 1"
   ]
  },
  {
   "cell_type": "markdown",
   "id": "d60452c7",
   "metadata": {},
   "source": [
    "1\\.a Make a new directory called `students` in your home. Download a csv file with the list of students of this lab from [here](https://www.dropbox.com/s/867rtx3az6e9gm8/LCP_22-23_students.csv) (use the `wget` command) and copy that to `students`. First check whether the file is already there"
   ]
  },
  {
   "cell_type": "code",
   "execution_count": 2,
   "id": "5c6cbd9f",
   "metadata": {},
   "outputs": [
    {
     "ename": "SyntaxError",
     "evalue": "invalid decimal literal (3295485402.py, line 5)",
     "output_type": "error",
     "traceback": [
      "\u001b[0;36m  Cell \u001b[0;32mIn[2], line 5\u001b[0;36m\u001b[0m\n\u001b[0;31m    wget https://www.dropbox.com/scl/fi/bxv17nrbrl83vw6qrkiu9/LCP_22-23_students.csv?rlkey=47fakvatrtif3q3qw4q97p5b7&e=1\u001b[0m\n\u001b[0m                                                                       ^\u001b[0m\n\u001b[0;31mSyntaxError\u001b[0m\u001b[0;31m:\u001b[0m invalid decimal literal\n"
     ]
    }
   ],
   "source": [
    "#!/bin/bash\n",
    "\n",
    "mkdir 'students'\n",
    "cd students\n",
    "wget https://www.dropbox.com/scl/fi/bxv17nrbrl83vw6qrkiu9/LCP_22-23_students.csv?rlkey=47fakvatrtif3q3qw4q97p5b7&e=1"
   ]
  },
  {
   "cell_type": "markdown",
   "id": "ae7346d2",
   "metadata": {},
   "source": [
    "1\\.b Make two new files, one containing the students belonging to PoD, the other to Physics."
   ]
  },
  {
   "cell_type": "code",
   "execution_count": null,
   "id": "f95ecf83",
   "metadata": {},
   "outputs": [],
   "source": [
    "#!/bin/bash\n",
    "\n",
    "touch PoD_students\n",
    "touch Physics_students\n",
    "grep 'PoD' student_list > PoD_students\n",
    "grep 'Physics' student_list > Physics_students \n"
   ]
  },
  {
   "cell_type": "markdown",
   "id": "8593c1fa",
   "metadata": {},
   "source": [
    "1\\.c For each letter of the alphabet, count the number of students whose surname starts with that letter. "
   ]
  },
  {
   "cell_type": "code",
   "execution_count": null,
   "id": "ac39cfae",
   "metadata": {},
   "outputs": [],
   "source": [
    "#!/bin/zsh\n",
    "\n",
    "typeset -a letter_counts\n",
    "letter_counts=()\n",
    "\n",
    "for letter in {A..Z}; do\n",
    "  count=$(grep -c \"^$letter\" students_list)\n",
    "  letter_counts+=(\"$letter: $count\")\n",
    "done\n",
    "\n",
    "\n",
    "for entry in \"${letter_counts[@]}\"; do\n",
    "  echo \"$entry\"\n",
    "done\n"
   ]
  },
  {
   "cell_type": "markdown",
   "id": "157964b4",
   "metadata": {},
   "source": [
    "1\\.d Find out which is the letter with most counts."
   ]
  },
  {
   "cell_type": "code",
   "execution_count": null,
   "id": "a7a2ac22-5fb0-4cba-9078-9e1c6b0b1f98",
   "metadata": {},
   "outputs": [],
   "source": [
    "#!/bin/zsh\n",
    "max_entry=\"\"\n",
    "max_count=0\n",
    "\n",
    "for entry in \"${letter_counts[@]}\"; do\n",
    " \n",
    "  current_count=$(echo \"$entry\" | awk -F': ' '{print $2}')\n",
    "  \n",
    "  \n",
    "  if (( current_count > max_count )); then\n",
    "    max_count=$current_count\n",
    "    max_entry=$entry\n",
    "  fi\n",
    "done\n",
    "\n",
    "\n",
    "echo \"$max_entry\""
   ]
  },
  {
   "cell_type": "markdown",
   "id": "d48786a4",
   "metadata": {},
   "source": [
    "1\\.e Assume an obvious numbering of the students in the file (first line is 1, second line is 2, etc.), group students \"modulo 18\", i.e. 1,19,37,.. 2,20,38,.. etc. and put each group in a separate file  "
   ]
  },
  {
   "cell_type": "code",
   "execution_count": null,
   "id": "98d1f1b1-fcd8-4e41-b650-972e90a19cf9",
   "metadata": {},
   "outputs": [],
   "source": [
    "???"
   ]
  },
  {
   "cell_type": "markdown",
   "id": "7abe5131",
   "metadata": {},
   "source": [
    "### Ex 2"
   ]
  },
  {
   "cell_type": "markdown",
   "id": "01409923",
   "metadata": {},
   "source": [
    "2.a Make a copy of the file `data.csv` removing the metadata and the commas between numbers; call it `data.txt`"
   ]
  },
  {
   "cell_type": "code",
   "execution_count": null,
   "id": "fb51f4ef-b652-4749-89f8-970d15ef571c",
   "metadata": {},
   "outputs": [],
   "source": [
    "hile IFS= read -r -n1 char; do\n",
    "  if '$char' == '\n",
    "    \n",
    "  echo \"$char\"\n",
    "done < data.txt"
   ]
  },
  {
   "cell_type": "markdown",
   "id": "ed599820",
   "metadata": {},
   "source": [
    "2\\.b How many even numbers are there?"
   ]
  },
  {
   "cell_type": "markdown",
   "id": "5e43b02b",
   "metadata": {},
   "source": [
    "2\\.c Distinguish the entries on the basis of `sqrt(X^2 + Y^2 + Z^2)` is greater or smaller than `100*sqrt(3)/2`. Count the entries of each of the two groups "
   ]
  },
  {
   "cell_type": "markdown",
   "id": "ee8a61d4",
   "metadata": {},
   "source": [
    "2\\.d Make `n` copies of data.txt (with `n` an input parameter of the script), where the i-th copy has all the numbers divided by i (with `1<=i<=n`)."
   ]
  }
 ],
 "metadata": {
  "kernelspec": {
   "display_name": "Python 3 (ipykernel)",
   "language": "python",
   "name": "python3"
  },
  "language_info": {
   "codemirror_mode": {
    "name": "ipython",
    "version": 3
   },
   "file_extension": ".py",
   "mimetype": "text/x-python",
   "name": "python",
   "nbconvert_exporter": "python",
   "pygments_lexer": "ipython3",
   "version": "3.11.5"
  }
 },
 "nbformat": 4,
 "nbformat_minor": 5
}
