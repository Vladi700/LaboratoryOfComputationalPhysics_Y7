{
 "cells": [
  {
   "cell_type": "markdown",
   "metadata": {},
   "source": [
    "### Numpy basics"
   ]
  },
  {
   "cell_type": "markdown",
   "metadata": {},
   "source": [
    "1\\. Find the row, column and overall means for the following matrix:\n",
    "\n",
    "```python\n",
    "m = np.arange(12).reshape((3,4))\n",
    "```"
   ]
  },
  {
   "cell_type": "code",
   "execution_count": 2,
   "metadata": {},
   "outputs": [
    {
     "name": "stdout",
     "output_type": "stream",
     "text": [
      "[[ 0  1  2  3]\n",
      " [ 4  5  6  7]\n",
      " [ 8  9 10 11]]\n",
      "[0 4 8]\n",
      "[0 1 2 3]\n",
      "1.5\n"
     ]
    }
   ],
   "source": [
    "import numpy as np\n",
    "\n",
    "m = np.arange(12).reshape((3,4))\n",
    "print(m)\n",
    "print(m[:, 0])\n",
    "print(m[0, :])\n",
    "print(np.mean(m[0, :]))"
   ]
  },
  {
   "cell_type": "markdown",
   "metadata": {},
   "source": [
    "2\\. Find the outer product of the following two vecotrs\n",
    "\n",
    "```python\n",
    "u = np.array([1,3,5,7])\n",
    "v = np.array([2,4,6,8])\n",
    "```\n",
    "\n",
    "Do this in the following ways:\n",
    "\n",
    "   * Using the function outer in numpy\n",
    "   * Using a nested for loop or list comprehension\n",
    "   * Using numpy broadcasting operatoins\n"
   ]
  },
  {
   "cell_type": "code",
   "execution_count": 3,
   "metadata": {},
   "outputs": [
    {
     "name": "stdout",
     "output_type": "stream",
     "text": [
      "[[ 2  4  6  8]\n",
      " [ 6 12 18 24]\n",
      " [10 20 30 40]\n",
      " [14 28 42 56]]\n"
     ]
    }
   ],
   "source": [
    "u = np.array([1,3,5,7])\n",
    "v = np.array([2,4,6,8])\n",
    "\n",
    "print(np.outer(u, v))"
   ]
  },
  {
   "cell_type": "code",
   "execution_count": 4,
   "metadata": {},
   "outputs": [
    {
     "name": "stdout",
     "output_type": "stream",
     "text": [
      "[ 2.  4.  6.  8.  6. 12. 18. 24. 10. 20. 30. 40. 14. 28. 42. 56.]\n",
      "[[ 2.  4.  6.  8.]\n",
      " [ 6. 12. 18. 24.]\n",
      " [10. 20. 30. 40.]\n",
      " [14. 28. 42. 56.]]\n"
     ]
    }
   ],
   "source": [
    "uv_c = np.array([])\n",
    "uv = np.array([])\n",
    "for i in u:\n",
    "    for j in v:\n",
    "        uv_c = np.append(uv_c, i*j)\n",
    "print(uv_c)\n",
    "print(uv_c.reshape(4, 4))"
   ]
  },
  {
   "cell_type": "code",
   "execution_count": null,
   "metadata": {},
   "outputs": [],
   "source": []
  },
  {
   "cell_type": "markdown",
   "metadata": {},
   "source": [
    "3\\. Create a 10 by 6 matrix of random uniform numbers. Set all rows with any entry less than 0.1 to be zero\n",
    "\n",
    "Hint: Use the following numpy functions - np.random.random, np.any as well as Boolean indexing and the axis argument."
   ]
  },
  {
   "cell_type": "code",
   "execution_count": 5,
   "metadata": {},
   "outputs": [
    {
     "name": "stdout",
     "output_type": "stream",
     "text": [
      "[[0.28305052 0.5742557  0.98644112 0.25322009 0.730348   0.90716581]\n",
      " [0.92962885 0.40876984 0.17912794 0.31337808 0.41047897 0.90018047]\n",
      " [0.54000206 0.35786632 0.17615579 0.79761694 0.92993284 0.32755051]\n",
      " [0.7349463  0.68564405 0.12155963 0.92348506 0.         0.18958433]\n",
      " [0.55530525 0.40884841 0.70784199 0.34586347 0.64740446 0.37614833]\n",
      " [0.87243607 0.99644351 0.85330621 0.76212117 0.21654922 0.30637427]\n",
      " [0.         0.32388894 0.         0.46167072 0.14787125 0.72871895]\n",
      " [0.28863894 0.13327963 0.64170655 0.79405246 0.16321807 0.13274923]\n",
      " [0.         0.81616668 0.85977102 0.20720959 0.58830897 0.        ]\n",
      " [0.88557648 0.31617141 0.56730936 0.80694898 0.81600029 0.80024819]]\n"
     ]
    }
   ],
   "source": [
    "A = np.random.random(60).reshape(10, 6)\n",
    "for i in range(len(A)):\n",
    "    for j in range(len(A[i])):\n",
    "        if A[i][j] < 0.1:\n",
    "            A[i][j] = 0\n",
    "print(A)"
   ]
  },
  {
   "cell_type": "markdown",
   "metadata": {},
   "source": [
    "4\\. Use np.linspace to create an array of 100 numbers between 0 and 2π (includsive).\n",
    "\n",
    "  * Extract every 10th element using slice notation\n",
    "  * Reverse the array using slice notation\n",
    "  * Extract elements where the absolute difference between the sine and cosine functions evaluated at that element is less than 0.1\n",
    "  * Make a plot showing the sin and cos functions and indicate where they are close"
   ]
  },
  {
   "cell_type": "code",
   "execution_count": 6,
   "metadata": {},
   "outputs": [],
   "source": [
    "import math\n",
    "\n",
    "A = np.linspace(0, 2*math.pi, 100)\n",
    "S = np.array([])\n",
    "for i in range(len(A)):\n",
    "    if i%10 == 0:\n",
    "        S = np.append(S, A[i])\n",
    "#print(S)\n",
    "#print(A)"
   ]
  },
  {
   "cell_type": "code",
   "execution_count": 7,
   "metadata": {},
   "outputs": [],
   "source": [
    "S = A[::-1]\n",
    "#print(S)"
   ]
  },
  {
   "cell_type": "code",
   "execution_count": 8,
   "metadata": {},
   "outputs": [
    {
     "name": "stdout",
     "output_type": "stream",
     "text": [
      "6.283185307179586\n",
      "[6.28318531 6.21971879 6.15625227 6.09278575 6.02931923 5.96585272\n",
      " 5.9023862  5.83891968 5.77545316 5.71198664 5.64852012 5.58505361\n",
      " 5.52158709 5.45812057 5.39465405 5.33118753 5.26772102 5.2042545\n",
      " 5.14078798 5.07732146 5.01385494 4.95038842 4.88692191 4.82345539\n",
      " 4.75998887 4.69652235 4.63305583 4.56958931 4.5061228  4.44265628\n",
      " 4.37918976 4.31572324 4.25225672 4.1887902  4.12532369 4.06185717\n",
      " 3.99839065 3.93492413 3.87145761 3.8079911  3.74452458 3.68105806\n",
      " 3.61759154 3.55412502 3.4906585  3.42719199 3.36372547 3.30025895\n",
      " 3.23679243 3.17332591 3.10985939 3.04639288 2.98292636 2.91945984\n",
      " 2.85599332 2.7925268  2.72906028 2.66559377 2.60212725 2.53866073\n",
      " 2.47519421 2.41172769 2.34826118 2.28479466 2.22132814 2.15786162\n",
      " 2.0943951  2.03092858 1.96746207 1.90399555 1.84052903 1.77706251\n",
      " 1.71359599 1.65012947 1.58666296 1.52319644 1.45972992 1.3962634\n",
      " 1.33279688 1.26933037 1.20586385 1.14239733 1.07893081 1.01546429\n",
      " 0.95199777 0.88853126 0.82506474 0.76159822 0.6981317  0.63466518\n",
      " 0.57119866 0.50773215 0.44426563 0.38079911 0.31733259 0.25386607\n",
      " 0.19039955 0.12693304 0.06346652 0.         0.76159822 0.82506474\n",
      " 3.87145761 3.93492413]\n"
     ]
    }
   ],
   "source": [
    "print(A[i])\n",
    "for i in range(len(A)):\n",
    "    if abs(math.sin(A[i]) - math.cos(A[i])) < 0.1:\n",
    "           S = np.append(S, A[i])\n",
    "print(S)"
   ]
  },
  {
   "cell_type": "markdown",
   "metadata": {},
   "source": [
    "5\\. Create a matrix that shows the 10 by 10 multiplication table.\n",
    "\n",
    " * Find the trace of the matrix\n",
    " * Extract the anto-diagonal (this should be ```array([10, 18, 24, 28, 30, 30, 28, 24, 18, 10])```)\n",
    " * Extract the diagnoal offset by 1 upwards (this should be ```array([ 2,  6, 12, 20, 30, 42, 56, 72, 90])```)"
   ]
  },
  {
   "cell_type": "code",
   "execution_count": 9,
   "metadata": {},
   "outputs": [
    {
     "name": "stdout",
     "output_type": "stream",
     "text": [
      "[ 0  1  2  3  4  5  6  7  8  9 10]\n",
      "[[ 0]\n",
      " [ 1]\n",
      " [ 2]\n",
      " [ 3]\n",
      " [ 4]\n",
      " [ 5]\n",
      " [ 6]\n",
      " [ 7]\n",
      " [ 8]\n",
      " [ 9]\n",
      " [10]]\n",
      "[[  1   2   3   4   5   6   7   8   9  10]\n",
      " [  2   4   6   8  10  12  14  16  18  20]\n",
      " [  3   6   9  12  15  18  21  24  27  30]\n",
      " [  4   8  12  16  20  24  28  32  36  40]\n",
      " [  5  10  15  20  25  30  35  40  45  50]\n",
      " [  6  12  18  24  30  36  42  48  54  60]\n",
      " [  7  14  21  28  35  42  49  56  63  70]\n",
      " [  8  16  24  32  40  48  56  64  72  80]\n",
      " [  9  18  27  36  45  54  63  72  81  90]\n",
      " [ 10  20  30  40  50  60  70  80  90 100]]\n"
     ]
    }
   ],
   "source": [
    "v = np.arange(0, 11, 1)\n",
    "u = v.reshape(11, 1)\n",
    "print(v)\n",
    "print(u)\n",
    "M = u * v\n",
    "M = np.delete(np.delete(M, 0, axis=0), 0, axis=1)\n",
    "print(M)"
   ]
  },
  {
   "cell_type": "code",
   "execution_count": 10,
   "metadata": {},
   "outputs": [
    {
     "name": "stdout",
     "output_type": "stream",
     "text": [
      "4\n",
      "[ 1  2  3  4  5  6  7  8  9 10]\n",
      "[10, 18, 24, 28, 30, 30, 28, 24, 18, 10]\n"
     ]
    }
   ],
   "source": [
    "print(M[1, 1])\n",
    "print(M[:, 0])\n",
    "a_diag =[]\n",
    "for i in range(len(M[0])):\n",
    "    for j in range (len(M[:, 0])):\n",
    "        if i + j == 9:\n",
    "            a_diag.append(M[i, j])\n",
    "print(a_diag)"
   ]
  },
  {
   "cell_type": "markdown",
   "metadata": {},
   "source": [
    "6\\. Use broadcasting to create a grid of distances\n",
    "\n",
    "Route 66 crosses the following cities in the US: Chicago, Springfield, Saint-Louis, Tulsa, Oklahoma City, Amarillo, Santa Fe, Albuquerque, Flagstaff, Los Angeles\n",
    "The corresponding positions in miles are: 0, 198, 303, 736, 871, 1175, 1475, 1544, 1913, 2448\n",
    "\n",
    "  * Construct a 2D grid of distances among each city along Route 66\n",
    "  * Convert that in km (those savages...)"
   ]
  },
  {
   "cell_type": "code",
   "execution_count": 11,
   "metadata": {},
   "outputs": [
    {
     "name": "stdout",
     "output_type": "stream",
     "text": [
      "[[   0  318  487 1184 1401 1890 2373 2484 3078 3939]\n",
      " [ 318    0  168  865 1083 1572 2055 2166 2760 3621]\n",
      " [ 487  168    0  696  914 1403 1886 1997 2591 3452]\n",
      " [1184  865  696    0  217  706 1189 1300 1894 2755]\n",
      " [1401 1083  914  217    0  489  972 1083 1676 2537]\n",
      " [1890 1572 1403  706  489    0  482  593 1187 2048]\n",
      " [2373 2055 1886 1189  972  482    0  111  704 1565]\n",
      " [2484 2166 1997 1300 1083  593  111    0  593 1454]\n",
      " [3078 2760 2591 1894 1676 1187  704  593    0  860]\n",
      " [3939 3621 3452 2755 2537 2048 1565 1454  860    0]]\n"
     ]
    }
   ],
   "source": [
    "u = np.array([0, 198, 303, 736, 871, 1175, 1475, 1544, 1913, 2448])\n",
    "v = u.reshape(10, 1)\n",
    "D = np.abs(v - u)\n",
    "for i  in range(len(D)):\n",
    "    D[i] = D[i] * 1.609344\n",
    "print(D)"
   ]
  },
  {
   "cell_type": "markdown",
   "metadata": {},
   "source": [
    "7\\. Prime numbers sieve: compute the prime numbers in the 0-N (N=99 to start with) range with a sieve (mask).\n",
    "  * Constract a shape (100,) boolean array, the mask\n",
    "  * Identify the multiples of each number starting from 2 and set accordingly the corresponding mask element\n",
    "  * Apply the mask to obtain an array of ordered prime numbers\n",
    "  * Check the performances (timeit); how does it scale with N?\n",
    "  * Implement the optimization suggested in the [sieve of Eratosthenes](https://en.wikipedia.org/wiki/Sieve_of_Eratosthenes)"
   ]
  },
  {
   "cell_type": "code",
   "execution_count": 33,
   "metadata": {},
   "outputs": [
    {
     "name": "stdout",
     "output_type": "stream",
     "text": [
      "[ 2  3  5  7 11 13 17 19 23 29 31 37 41 43 47 53 59 61 67 71 73 79 83 89\n",
      " 97]\n"
     ]
    }
   ],
   "source": [
    "import numpy as np\n",
    "\n",
    "numbers = np.arange(2, 100)\n",
    "\n",
    "mask = np.ones(len(numbers), dtype=bool)\n",
    "\n",
    "for current_prime in numbers[mask]:  \n",
    "    start_index = current_prime - 2  \n",
    "    for multiple_index in range(start_index + current_prime, len(numbers), current_prime):\n",
    "        mask[multiple_index] = False\n",
    "\n",
    "primes = numbers[mask]\n",
    "print(primes)\n"
   ]
  },
  {
   "cell_type": "code",
   "execution_count": null,
   "metadata": {},
   "outputs": [
    {
     "name": "stdout",
     "output_type": "stream",
     "text": [
      "[1]\n"
     ]
    }
   ],
   "source": []
  },
  {
   "cell_type": "markdown",
   "metadata": {},
   "source": [
    "**N.B. the following exercises are meant to be solved only if you are familiar with the numpy random library. If not you can skip them (postponed for one of the next exercise sessions)**\n"
   ]
  },
  {
   "cell_type": "markdown",
   "metadata": {},
   "source": [
    "8\\. Diffusion using random walk\n",
    "\n",
    "Consider a simple random walk process: at each step in time, a walker jumps right or left (+1 or -1) with equal probability. The goal is to find the typical distance from the origin of a random walker after a given amount of time. \n",
    "To do that, let's simulate many walkers and create a 2D array with each walker as a raw and the actual time evolution as columns\n",
    "\n",
    "  * Take 1000 walkers and let them walk for 200 steps\n",
    "  * Use randint to create a 2D array of size walkers x steps with values -1 or 1\n",
    "  * Build the actual walking distances for each walker (i.e. another 2D array \"summing on each raw\")\n",
    "  * Take the square of that 2D array (elementwise)\n",
    "  * Compute the mean of the squared distances at each step (i.e. the mean along the columns)\n",
    "  * Plot the average distances (sqrt(distance\\*\\*2)) as a function of time (step)\n",
    "  \n",
    "Did you get what you expected?"
   ]
  },
  {
   "cell_type": "code",
   "execution_count": 58,
   "metadata": {},
   "outputs": [
    {
     "name": "stdout",
     "output_type": "stream",
     "text": [
      "[  1.       1.9996   2.9552   4.       5.0232   6.1016   7.1744   8.1864\n",
      "   9.2016  10.1928  11.0992  12.0836  13.1088  14.1952  15.2168  16.1772\n",
      "  17.324   18.2456  19.2296  20.3108  21.1728  22.0892  23.068   24.1036\n",
      "  25.0624  25.9512  26.8104  27.6584  28.7976  29.828   30.8408  31.8392\n",
      "  32.5552  33.6876  34.4328  35.4232  36.3816  37.2508  38.4376  39.4556\n",
      "  40.2344  41.2872  42.296   43.48    44.524   45.3004  46.1752  47.2876\n",
      "  48.4392  49.5048  50.6192  51.3012  52.4344  53.3368  54.1264  55.216\n",
      "  56.1824  57.4964  58.5232  59.4816  60.2608  61.4828  62.6064  63.616\n",
      "  64.644   65.8104  66.7888  67.748   69.056   70.2192  71.0088  71.5044\n",
      "  72.5672  73.9284  74.9904  76.0688  77.024   78.0844  79.1352  80.1108\n",
      "  81.38    82.7164  83.8064  84.8676  85.6824  86.632   87.608   88.4512\n",
      "  89.6056  90.8528  91.9432  92.5908  93.368   94.4692  95.7152  96.6364\n",
      "  97.4392  98.5608  99.4496 100.36   101.1352 102.1208 103.0664 104.3964\n",
      " 105.1272 106.0988 106.884  107.7932 108.7048 109.6568 110.8624 112.5212\n",
      " 113.7296 114.68   115.612  116.4344 116.9664 118.1052 118.9968 120.2436\n",
      " 121.1352 121.9016 122.6424 123.8472 125.012  125.8928 126.3192 127.236\n",
      " 128.1664 128.7884 130.1936 131.3116 132.4304 133.3304 134.4504 135.642\n",
      " 136.6216 137.742  138.5336 139.6444 140.6936 142.0176 142.708  143.9124\n",
      " 144.7616 145.982  146.7552 147.6024 148.8576 149.7256 151.024  151.9984\n",
      " 152.9192 153.5808 154.7888 155.7628 156.4256 156.8312 157.888  158.7808\n",
      " 159.572  160.5768 162.1856 163.4096 164.3752 165.5232 166.5632 167.2048\n",
      " 168.7736 169.1996 170.4992 171.5616 173.3304 174.4068 175.7976 177.0944\n",
      " 178.012  179.228  180.3376 181.6368 182.7552 184.264  185.6648 186.4296\n",
      " 187.632  188.6568 189.8624 191.002  191.6088 192.5132 193.4432 194.2436\n",
      " 195.1088 196.0576 197.524  198.632  199.016  199.7276 201.0672 202.0888]\n"
     ]
    },
    {
     "data": {
      "text/plain": [
       "[<matplotlib.lines.Line2D at 0x145279650>]"
      ]
     },
     "execution_count": 58,
     "metadata": {},
     "output_type": "execute_result"
    },
    {
     "data": {
      "image/png": "[encoded data removed]",
      "text/plain": [
       "<Figure size 640x480 with 1 Axes>"
      ]
     },
     "metadata": {},
     "output_type": "display_data"
    }
   ],
   "source": [
    "import matplotlib.pyplot as plt\n",
    "\n",
    "walkers_number = 10000\n",
    "steps_nr = 200\n",
    "steps_list = np.random.choice([-1, 1], size=(walkers_number, steps_nr))\n",
    "suma = 0\n",
    "time_evolution = np.zeros(np.shape(steps_list))\n",
    "for i in range(len(steps_list)):\n",
    "    suma = 0\n",
    "    for j in range(len(steps_list[i])):\n",
    "        suma = suma + steps_list[i][j]\n",
    "        time_evolution[i][j] = suma\n",
    "square_time_evo = np.square(time_evolution)\n",
    "mean = np.mean(square_time_evo, axis=0)\n",
    "print(mean)\n",
    "t = np.arange(0, steps_nr, 1)\n",
    "plt.plot(t, mean)"
   ]
  },
  {
   "cell_type": "markdown",
   "metadata": {},
   "source": [
    "9\\. Analyze a data file \n",
    "  * Download the population of hares, lynxes and carrots at the beginning of the last century.\n",
    "    ```python\n",
    "    ! wget https://www.dropbox.com/s/3vigxoqayo389uc/populations.txt\n",
    "    ```\n",
    "\n",
    "  * Check the content by looking within the file\n",
    "  * Load the data (use an appropriate numpy method) into a 2D array\n",
    "  * Create arrays out of the columns, the arrays being (in order): *year*, *hares*, *lynxes*, *carrots* \n",
    "  * Plot the 3 populations over the years\n",
    "  * Compute the main statistical properties of the dataset (mean, std, correlations, etc.)\n",
    "  * Which species has the highest population each year?\n",
    "\n",
    "Do you feel there is some evident correlation here? [Studies](https://www.enr.gov.nt.ca/en/services/lynx/lynx-snowshoe-hare-cycle) tend to believe so."
   ]
  }
 ],
 "metadata": {
  "kernelspec": {
   "display_name": "Python 3",
   "language": "python",
   "name": "python3"
  },
  "language_info": {
   "codemirror_mode": {
    "name": "ipython",
    "version": 3
   },
   "file_extension": ".py",
   "mimetype": "text/x-python",
   "name": "python",
   "nbconvert_exporter": "python",
   "pygments_lexer": "ipython3",
   "version": "3.11.5"
  }
 },
 "nbformat": 4,
 "nbformat_minor": 2
}
